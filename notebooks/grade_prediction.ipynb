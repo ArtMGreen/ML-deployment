{
 "cells": [
  {
   "cell_type": "code",
   "execution_count": 1,
   "id": "4d2ec226",
   "metadata": {
    "_cell_guid": "b1076dfc-b9ad-4769-8c92-a6c4dae69d19",
    "_uuid": "8f2839f25d086af736a60e9eeb907d3b93b6e0e5",
    "execution": {
     "iopub.execute_input": "2024-09-04T12:58:20.215054Z",
     "iopub.status.busy": "2024-09-04T12:58:20.213499Z",
     "iopub.status.idle": "2024-09-04T12:58:22.538947Z",
     "shell.execute_reply": "2024-09-04T12:58:22.537731Z"
    },
    "id": "aKD0TWmSxiyw",
    "papermill": {
     "duration": 2.337549,
     "end_time": "2024-09-04T12:58:22.541681",
     "exception": false,
     "start_time": "2024-09-04T12:58:20.204132",
     "status": "completed"
    },
    "tags": []
   },
   "outputs": [],
   "source": [
    "import pandas as pd\n",
    "import numpy as np\n",
    "import sklearn\n",
    "from sklearn import preprocessing\n",
    "from sklearn import impute\n",
    "from sklearn import ensemble\n",
    "from sklearn import metrics\n",
    "from sklearn import neural_network\n",
    "import warnings\n",
    "warnings.filterwarnings('ignore')"
   ]
  },
  {
   "cell_type": "code",
   "execution_count": 2,
   "id": "8e8bb006",
   "metadata": {
    "execution": {
     "iopub.execute_input": "2024-09-04T12:58:22.558854Z",
     "iopub.status.busy": "2024-09-04T12:58:22.557769Z",
     "iopub.status.idle": "2024-09-04T12:58:22.594772Z",
     "shell.execute_reply": "2024-09-04T12:58:22.593484Z"
    },
    "id": "OVPMebyZxiyw",
    "outputId": "fd53ba08-adbc-45a2-c119-663322f0846d",
    "papermill": {
     "duration": 0.048452,
     "end_time": "2024-09-04T12:58:22.597605",
     "exception": false,
     "start_time": "2024-09-04T12:58:22.549153",
     "status": "completed"
    },
    "tags": []
   },
   "outputs": [
    {
     "data": {
      "text/html": [
       "<div>\n",
       "<style scoped>\n",
       "    .dataframe tbody tr th:only-of-type {\n",
       "        vertical-align: middle;\n",
       "    }\n",
       "\n",
       "    .dataframe tbody tr th {\n",
       "        vertical-align: top;\n",
       "    }\n",
       "\n",
       "    .dataframe thead th {\n",
       "        text-align: right;\n",
       "    }\n",
       "</style>\n",
       "<table border=\"1\" class=\"dataframe\">\n",
       "  <thead>\n",
       "    <tr style=\"text-align: right;\">\n",
       "      <th></th>\n",
       "      <th>Course Grade (Real)</th>\n",
       "      <th>Assignment: In-class participation</th>\n",
       "      <th>Assignment: Assignment 1</th>\n",
       "      <th>Assignment: Midterm</th>\n",
       "    </tr>\n",
       "  </thead>\n",
       "  <tbody>\n",
       "    <tr>\n",
       "      <th>0</th>\n",
       "      <td>100</td>\n",
       "      <td>5</td>\n",
       "      <td>100</td>\n",
       "      <td>26</td>\n",
       "    </tr>\n",
       "    <tr>\n",
       "      <th>1</th>\n",
       "      <td>73</td>\n",
       "      <td>1.25</td>\n",
       "      <td>98</td>\n",
       "      <td>12</td>\n",
       "    </tr>\n",
       "    <tr>\n",
       "      <th>2</th>\n",
       "      <td>78</td>\n",
       "      <td>-</td>\n",
       "      <td>96</td>\n",
       "      <td>14</td>\n",
       "    </tr>\n",
       "    <tr>\n",
       "      <th>3</th>\n",
       "      <td>100</td>\n",
       "      <td>0</td>\n",
       "      <td>100</td>\n",
       "      <td>20</td>\n",
       "    </tr>\n",
       "    <tr>\n",
       "      <th>4</th>\n",
       "      <td>70</td>\n",
       "      <td>0</td>\n",
       "      <td>84</td>\n",
       "      <td>26</td>\n",
       "    </tr>\n",
       "  </tbody>\n",
       "</table>\n",
       "</div>"
      ],
      "text/plain": [
       "   Course Grade (Real) Assignment: In-class participation  \\\n",
       "0                  100                                  5   \n",
       "1                   73                               1.25   \n",
       "2                   78                                  -   \n",
       "3                  100                                  0   \n",
       "4                   70                                  0   \n",
       "\n",
       "  Assignment: Assignment 1  Assignment: Midterm  \n",
       "0                      100                   26  \n",
       "1                       98                   12  \n",
       "2                       96                   14  \n",
       "3                      100                   20  \n",
       "4                       84                   26  "
      ]
     },
     "execution_count": 2,
     "metadata": {},
     "output_type": "execute_result"
    }
   ],
   "source": [
    "# /kaggle/input/pmldl-week-1-test-regression-competition/\n",
    "train_data = pd.read_csv('/kaggle/input/pmldl-week-1-test-regression-competition/train.csv',sep=';')\n",
    "\n",
    "train_data.head()"
   ]
  },
  {
   "cell_type": "markdown",
   "id": "e1fc3ec7",
   "metadata": {
    "id": "5PnkAzcuxiyx",
    "papermill": {
     "duration": 0.007158,
     "end_time": "2024-09-04T12:58:22.612381",
     "exception": false,
     "start_time": "2024-09-04T12:58:22.605223",
     "status": "completed"
    },
    "tags": []
   },
   "source": [
    "## Preprocessing\n",
    "\n",
    "Please note that all the features have their own scales. Also some of them have missing values. Thus, you should apply Scaler and Imputer on the features and Scaler on labels."
   ]
  },
  {
   "cell_type": "code",
   "execution_count": 3,
   "id": "c36cea30",
   "metadata": {
    "execution": {
     "iopub.execute_input": "2024-09-04T12:58:22.628750Z",
     "iopub.status.busy": "2024-09-04T12:58:22.628338Z",
     "iopub.status.idle": "2024-09-04T12:58:22.635336Z",
     "shell.execute_reply": "2024-09-04T12:58:22.634110Z"
    },
    "id": "gLAZmC15L3pd",
    "papermill": {
     "duration": 0.018098,
     "end_time": "2024-09-04T12:58:22.637765",
     "exception": false,
     "start_time": "2024-09-04T12:58:22.619667",
     "status": "completed"
    },
    "tags": []
   },
   "outputs": [],
   "source": [
    "def perform_transform(df):\n",
    "    res = df.replace({'-': 0}).astype('float64')\n",
    "    res['Assessments'] = res['Assignment: In-class participation']\\\n",
    "                       + res['Assignment: Midterm']\\\n",
    "                       + res['Assignment: Assignment 1'] * 0.3\n",
    "    res['Course Grade (Residual)'] = res['Course Grade (Real)']\\\n",
    "                                   - res['Assignment: In-class participation']\\\n",
    "                                   - res['Assignment: Midterm']\\\n",
    "                                   - res['Assignment: Assignment 1'] * 0.3\n",
    "    return res"
   ]
  },
  {
   "cell_type": "code",
   "execution_count": 4,
   "id": "8ba27f7a",
   "metadata": {
    "execution": {
     "iopub.execute_input": "2024-09-04T12:58:22.654879Z",
     "iopub.status.busy": "2024-09-04T12:58:22.654040Z",
     "iopub.status.idle": "2024-09-04T12:58:22.664828Z",
     "shell.execute_reply": "2024-09-04T12:58:22.663661Z"
    },
    "id": "7CrsC7xLDaee",
    "papermill": {
     "duration": 0.02198,
     "end_time": "2024-09-04T12:58:22.667371",
     "exception": false,
     "start_time": "2024-09-04T12:58:22.645391",
     "status": "completed"
    },
    "tags": []
   },
   "outputs": [],
   "source": [
    "# imputing happens here\n",
    "train_data = perform_transform(train_data)"
   ]
  },
  {
   "cell_type": "code",
   "execution_count": 5,
   "id": "0726d6ae",
   "metadata": {
    "execution": {
     "iopub.execute_input": "2024-09-04T12:58:22.685711Z",
     "iopub.status.busy": "2024-09-04T12:58:22.684952Z",
     "iopub.status.idle": "2024-09-04T12:58:22.712944Z",
     "shell.execute_reply": "2024-09-04T12:58:22.711833Z"
    },
    "id": "msH-aalWIruz",
    "outputId": "c49d8065-2094-4298-b5a9-b0d54adb93b9",
    "papermill": {
     "duration": 0.040634,
     "end_time": "2024-09-04T12:58:22.715490",
     "exception": false,
     "start_time": "2024-09-04T12:58:22.674856",
     "status": "completed"
    },
    "tags": []
   },
   "outputs": [
    {
     "data": {
      "text/html": [
       "<div>\n",
       "<style scoped>\n",
       "    .dataframe tbody tr th:only-of-type {\n",
       "        vertical-align: middle;\n",
       "    }\n",
       "\n",
       "    .dataframe tbody tr th {\n",
       "        vertical-align: top;\n",
       "    }\n",
       "\n",
       "    .dataframe thead th {\n",
       "        text-align: right;\n",
       "    }\n",
       "</style>\n",
       "<table border=\"1\" class=\"dataframe\">\n",
       "  <thead>\n",
       "    <tr style=\"text-align: right;\">\n",
       "      <th></th>\n",
       "      <th>Course Grade (Real)</th>\n",
       "      <th>Assignment: In-class participation</th>\n",
       "      <th>Assignment: Assignment 1</th>\n",
       "      <th>Assignment: Midterm</th>\n",
       "      <th>Assessments</th>\n",
       "      <th>Course Grade (Residual)</th>\n",
       "    </tr>\n",
       "  </thead>\n",
       "  <tbody>\n",
       "    <tr>\n",
       "      <th>0</th>\n",
       "      <td>100.0</td>\n",
       "      <td>5.00</td>\n",
       "      <td>100.0</td>\n",
       "      <td>26.0</td>\n",
       "      <td>61.00</td>\n",
       "      <td>39.00</td>\n",
       "    </tr>\n",
       "    <tr>\n",
       "      <th>1</th>\n",
       "      <td>73.0</td>\n",
       "      <td>1.25</td>\n",
       "      <td>98.0</td>\n",
       "      <td>12.0</td>\n",
       "      <td>42.65</td>\n",
       "      <td>30.35</td>\n",
       "    </tr>\n",
       "    <tr>\n",
       "      <th>2</th>\n",
       "      <td>78.0</td>\n",
       "      <td>0.00</td>\n",
       "      <td>96.0</td>\n",
       "      <td>14.0</td>\n",
       "      <td>42.80</td>\n",
       "      <td>35.20</td>\n",
       "    </tr>\n",
       "    <tr>\n",
       "      <th>3</th>\n",
       "      <td>100.0</td>\n",
       "      <td>0.00</td>\n",
       "      <td>100.0</td>\n",
       "      <td>20.0</td>\n",
       "      <td>50.00</td>\n",
       "      <td>50.00</td>\n",
       "    </tr>\n",
       "    <tr>\n",
       "      <th>4</th>\n",
       "      <td>70.0</td>\n",
       "      <td>0.00</td>\n",
       "      <td>84.0</td>\n",
       "      <td>26.0</td>\n",
       "      <td>51.20</td>\n",
       "      <td>18.80</td>\n",
       "    </tr>\n",
       "    <tr>\n",
       "      <th>...</th>\n",
       "      <td>...</td>\n",
       "      <td>...</td>\n",
       "      <td>...</td>\n",
       "      <td>...</td>\n",
       "      <td>...</td>\n",
       "      <td>...</td>\n",
       "    </tr>\n",
       "    <tr>\n",
       "      <th>239</th>\n",
       "      <td>51.0</td>\n",
       "      <td>3.00</td>\n",
       "      <td>85.0</td>\n",
       "      <td>14.0</td>\n",
       "      <td>42.50</td>\n",
       "      <td>8.50</td>\n",
       "    </tr>\n",
       "    <tr>\n",
       "      <th>240</th>\n",
       "      <td>0.0</td>\n",
       "      <td>0.00</td>\n",
       "      <td>0.0</td>\n",
       "      <td>0.0</td>\n",
       "      <td>0.00</td>\n",
       "      <td>0.00</td>\n",
       "    </tr>\n",
       "    <tr>\n",
       "      <th>241</th>\n",
       "      <td>100.0</td>\n",
       "      <td>0.42</td>\n",
       "      <td>93.0</td>\n",
       "      <td>28.0</td>\n",
       "      <td>56.32</td>\n",
       "      <td>43.68</td>\n",
       "    </tr>\n",
       "    <tr>\n",
       "      <th>242</th>\n",
       "      <td>83.0</td>\n",
       "      <td>3.00</td>\n",
       "      <td>98.0</td>\n",
       "      <td>18.0</td>\n",
       "      <td>50.40</td>\n",
       "      <td>32.60</td>\n",
       "    </tr>\n",
       "    <tr>\n",
       "      <th>243</th>\n",
       "      <td>86.0</td>\n",
       "      <td>5.00</td>\n",
       "      <td>92.0</td>\n",
       "      <td>16.0</td>\n",
       "      <td>48.60</td>\n",
       "      <td>37.40</td>\n",
       "    </tr>\n",
       "  </tbody>\n",
       "</table>\n",
       "<p>244 rows × 6 columns</p>\n",
       "</div>"
      ],
      "text/plain": [
       "     Course Grade (Real)  Assignment: In-class participation  \\\n",
       "0                  100.0                                5.00   \n",
       "1                   73.0                                1.25   \n",
       "2                   78.0                                0.00   \n",
       "3                  100.0                                0.00   \n",
       "4                   70.0                                0.00   \n",
       "..                   ...                                 ...   \n",
       "239                 51.0                                3.00   \n",
       "240                  0.0                                0.00   \n",
       "241                100.0                                0.42   \n",
       "242                 83.0                                3.00   \n",
       "243                 86.0                                5.00   \n",
       "\n",
       "     Assignment: Assignment 1  Assignment: Midterm  Assessments  \\\n",
       "0                       100.0                 26.0        61.00   \n",
       "1                        98.0                 12.0        42.65   \n",
       "2                        96.0                 14.0        42.80   \n",
       "3                       100.0                 20.0        50.00   \n",
       "4                        84.0                 26.0        51.20   \n",
       "..                        ...                  ...          ...   \n",
       "239                      85.0                 14.0        42.50   \n",
       "240                       0.0                  0.0         0.00   \n",
       "241                      93.0                 28.0        56.32   \n",
       "242                      98.0                 18.0        50.40   \n",
       "243                      92.0                 16.0        48.60   \n",
       "\n",
       "     Course Grade (Residual)  \n",
       "0                      39.00  \n",
       "1                      30.35  \n",
       "2                      35.20  \n",
       "3                      50.00  \n",
       "4                      18.80  \n",
       "..                       ...  \n",
       "239                     8.50  \n",
       "240                     0.00  \n",
       "241                    43.68  \n",
       "242                    32.60  \n",
       "243                    37.40  \n",
       "\n",
       "[244 rows x 6 columns]"
      ]
     },
     "execution_count": 5,
     "metadata": {},
     "output_type": "execute_result"
    }
   ],
   "source": [
    "train_data"
   ]
  },
  {
   "cell_type": "code",
   "execution_count": 6,
   "id": "50ed54ed",
   "metadata": {
    "cellView": "form",
    "execution": {
     "iopub.execute_input": "2024-09-04T12:58:22.733095Z",
     "iopub.status.busy": "2024-09-04T12:58:22.732614Z",
     "iopub.status.idle": "2024-09-04T12:58:23.075054Z",
     "shell.execute_reply": "2024-09-04T12:58:23.073838Z"
    },
    "id": "QdY6rEtALDGD",
    "outputId": "964d08bf-3481-4098-9256-fb84168555f2",
    "papermill": {
     "duration": 0.35414,
     "end_time": "2024-09-04T12:58:23.077601",
     "exception": false,
     "start_time": "2024-09-04T12:58:22.723461",
     "status": "completed"
    },
    "tags": []
   },
   "outputs": [
    {
     "data": {
      "image/png": "[encoded data removed]",
      "text/plain": [
       "<Figure size 640x480 with 1 Axes>"
      ]
     },
     "metadata": {},
     "output_type": "display_data"
    }
   ],
   "source": [
    "# @title Assessments vs Course Grade (Residual)\n",
    "\n",
    "from matplotlib import pyplot as plt\n",
    "train_data.plot(kind='scatter', x='Assessments', y='Course Grade (Residual)', s=32, alpha=.2)\n",
    "plt.gca().spines[['top', 'right',]].set_visible(False)"
   ]
  },
  {
   "cell_type": "code",
   "execution_count": 7,
   "id": "f016f8a9",
   "metadata": {
    "execution": {
     "iopub.execute_input": "2024-09-04T12:58:23.096846Z",
     "iopub.status.busy": "2024-09-04T12:58:23.096386Z",
     "iopub.status.idle": "2024-09-04T12:58:23.111687Z",
     "shell.execute_reply": "2024-09-04T12:58:23.110507Z"
    },
    "id": "MdZ_rnthxiyx",
    "papermill": {
     "duration": 0.027948,
     "end_time": "2024-09-04T12:58:23.114268",
     "exception": false,
     "start_time": "2024-09-04T12:58:23.086320",
     "status": "completed"
    },
    "tags": []
   },
   "outputs": [],
   "source": [
    "y = train_data['Course Grade (Residual)']\n",
    "delta = train_data['Assessments']\n",
    "minimum, maximum = min(train_data['Course Grade (Real)']), max(train_data['Course Grade (Real)'])\n",
    "\n",
    "# Write your src_code here\n",
    "# label_scaler = preprocessing.MinMaxScaler()\n",
    "y = ((y - minimum) / maximum).to_numpy()\n",
    "delta = ((delta - minimum) / maximum).to_numpy()\n",
    "\n",
    "X = train_data.drop(['Course Grade (Real)', 'Course Grade (Residual)', 'Assessments'], axis=1)\n",
    "# Write your src_code here - do some preprocessing\n",
    "# regressor_imputer = impute.SimpleImputer(missing_values='-', strategy='constant', fill_value=0)\n",
    "# X = regressor_imputer.fit_transform(X)\n",
    "\n",
    "regressor_scaler = preprocessing.MinMaxScaler()\n",
    "X = regressor_scaler.fit_transform(X)\n"
   ]
  },
  {
   "cell_type": "markdown",
   "id": "be3233fd",
   "metadata": {
    "id": "Qt8P3_26xiyx",
    "papermill": {
     "duration": 0.008273,
     "end_time": "2024-09-04T12:58:23.131145",
     "exception": false,
     "start_time": "2024-09-04T12:58:23.122872",
     "status": "completed"
    },
    "tags": []
   },
   "source": [
    "### Model\n",
    "Implement any appropriate regression  ML model you like. Consider the number of features and data points when chose a model."
   ]
  },
  {
   "cell_type": "code",
   "execution_count": 8,
   "id": "e076d312",
   "metadata": {
    "execution": {
     "iopub.execute_input": "2024-09-04T12:58:23.150024Z",
     "iopub.status.busy": "2024-09-04T12:58:23.149592Z",
     "iopub.status.idle": "2024-09-04T12:58:23.253450Z",
     "shell.execute_reply": "2024-09-04T12:58:23.251753Z"
    },
    "id": "RjzNzs_Cxiyx",
    "outputId": "903d90c3-f509-4b59-a620-ce9304c3fac1",
    "papermill": {
     "duration": 0.118117,
     "end_time": "2024-09-04T12:58:23.257868",
     "exception": false,
     "start_time": "2024-09-04T12:58:23.139751",
     "status": "completed"
    },
    "tags": []
   },
   "outputs": [
    {
     "data": {
      "text/html": [
       "<style>#sk-container-id-1 {color: black;background-color: white;}#sk-container-id-1 pre{padding: 0;}#sk-container-id-1 div.sk-toggleable {background-color: white;}#sk-container-id-1 label.sk-toggleable__label {cursor: pointer;display: block;width: 100%;margin-bottom: 0;padding: 0.3em;box-sizing: border-box;text-align: center;}#sk-container-id-1 label.sk-toggleable__label-arrow:before {content: \"▸\";float: left;margin-right: 0.25em;color: #696969;}#sk-container-id-1 label.sk-toggleable__label-arrow:hover:before {color: black;}#sk-container-id-1 div.sk-estimator:hover label.sk-toggleable__label-arrow:before {color: black;}#sk-container-id-1 div.sk-toggleable__content {max-height: 0;max-width: 0;overflow: hidden;text-align: left;background-color: #f0f8ff;}#sk-container-id-1 div.sk-toggleable__content pre {margin: 0.2em;color: black;border-radius: 0.25em;background-color: #f0f8ff;}#sk-container-id-1 input.sk-toggleable__control:checked~div.sk-toggleable__content {max-height: 200px;max-width: 100%;overflow: auto;}#sk-container-id-1 input.sk-toggleable__control:checked~label.sk-toggleable__label-arrow:before {content: \"▾\";}#sk-container-id-1 div.sk-estimator input.sk-toggleable__control:checked~label.sk-toggleable__label {background-color: #d4ebff;}#sk-container-id-1 div.sk-label input.sk-toggleable__control:checked~label.sk-toggleable__label {background-color: #d4ebff;}#sk-container-id-1 input.sk-hidden--visually {border: 0;clip: rect(1px 1px 1px 1px);clip: rect(1px, 1px, 1px, 1px);height: 1px;margin: -1px;overflow: hidden;padding: 0;position: absolute;width: 1px;}#sk-container-id-1 div.sk-estimator {font-family: monospace;background-color: #f0f8ff;border: 1px dotted black;border-radius: 0.25em;box-sizing: border-box;margin-bottom: 0.5em;}#sk-container-id-1 div.sk-estimator:hover {background-color: #d4ebff;}#sk-container-id-1 div.sk-parallel-item::after {content: \"\";width: 100%;border-bottom: 1px solid gray;flex-grow: 1;}#sk-container-id-1 div.sk-label:hover label.sk-toggleable__label {background-color: #d4ebff;}#sk-container-id-1 div.sk-serial::before {content: \"\";position: absolute;border-left: 1px solid gray;box-sizing: border-box;top: 0;bottom: 0;left: 50%;z-index: 0;}#sk-container-id-1 div.sk-serial {display: flex;flex-direction: column;align-items: center;background-color: white;padding-right: 0.2em;padding-left: 0.2em;position: relative;}#sk-container-id-1 div.sk-item {position: relative;z-index: 1;}#sk-container-id-1 div.sk-parallel {display: flex;align-items: stretch;justify-content: center;background-color: white;position: relative;}#sk-container-id-1 div.sk-item::before, #sk-container-id-1 div.sk-parallel-item::before {content: \"\";position: absolute;border-left: 1px solid gray;box-sizing: border-box;top: 0;bottom: 0;left: 50%;z-index: -1;}#sk-container-id-1 div.sk-parallel-item {display: flex;flex-direction: column;z-index: 1;position: relative;background-color: white;}#sk-container-id-1 div.sk-parallel-item:first-child::after {align-self: flex-end;width: 50%;}#sk-container-id-1 div.sk-parallel-item:last-child::after {align-self: flex-start;width: 50%;}#sk-container-id-1 div.sk-parallel-item:only-child::after {width: 0;}#sk-container-id-1 div.sk-dashed-wrapped {border: 1px dashed gray;margin: 0 0.4em 0.5em 0.4em;box-sizing: border-box;padding-bottom: 0.4em;background-color: white;}#sk-container-id-1 div.sk-label label {font-family: monospace;font-weight: bold;display: inline-block;line-height: 1.2em;}#sk-container-id-1 div.sk-label-container {text-align: center;}#sk-container-id-1 div.sk-container {/* jupyter's `normalize.less` sets `[hidden] { display: none; }` but bootstrap.min.css set `[hidden] { display: none !important; }` so we also need the `!important` here to be able to override the default hidden behavior on the sphinx rendered scikit-learn.org. See: https://github.com/scikit-learn/scikit-learn/issues/21755 */display: inline-block !important;position: relative;}#sk-container-id-1 div.sk-text-repr-fallback {display: none;}</style><div id=\"sk-container-id-1\" class=\"sk-top-container\"><div class=\"sk-text-repr-fallback\"><pre>MLPRegressor()</pre><b>In a Jupyter environment, please rerun this cell to show the HTML representation or trust the notebook. <br />On GitHub, the HTML representation is unable to render, please try loading this page with nbviewer.org.</b></div><div class=\"sk-container\" hidden><div class=\"sk-item\"><div class=\"sk-estimator sk-toggleable\"><input class=\"sk-toggleable__control sk-hidden--visually\" id=\"sk-estimator-id-1\" type=\"checkbox\" checked><label for=\"sk-estimator-id-1\" class=\"sk-toggleable__label sk-toggleable__label-arrow\">MLPRegressor</label><div class=\"sk-toggleable__content\"><pre>MLPRegressor()</pre></div></div></div></div></div>"
      ],
      "text/plain": [
       "MLPRegressor()"
      ]
     },
     "execution_count": 8,
     "metadata": {},
     "output_type": "execute_result"
    }
   ],
   "source": [
    "model = sklearn.neural_network.MLPRegressor()\n",
    "model.fit(X, y)"
   ]
  },
  {
   "cell_type": "code",
   "execution_count": 9,
   "id": "ce3efe34",
   "metadata": {
    "execution": {
     "iopub.execute_input": "2024-09-04T12:58:23.296325Z",
     "iopub.status.busy": "2024-09-04T12:58:23.295568Z",
     "iopub.status.idle": "2024-09-04T12:58:23.308233Z",
     "shell.execute_reply": "2024-09-04T12:58:23.306650Z"
    },
    "id": "4dYuqq2q-mSz",
    "papermill": {
     "duration": 0.037942,
     "end_time": "2024-09-04T12:58:23.313664",
     "exception": false,
     "start_time": "2024-09-04T12:58:23.275722",
     "status": "completed"
    },
    "tags": []
   },
   "outputs": [],
   "source": [
    "y_pred = model.predict(X)"
   ]
  },
  {
   "cell_type": "markdown",
   "id": "2ff62490",
   "metadata": {
    "id": "WKqMb8ktxiyy",
    "papermill": {
     "duration": 0.017996,
     "end_time": "2024-09-04T12:58:23.349514",
     "exception": false,
     "start_time": "2024-09-04T12:58:23.331518",
     "status": "completed"
    },
    "tags": []
   },
   "source": [
    "### Inference\n",
    "Run you trained model on `test` split\n"
   ]
  },
  {
   "cell_type": "code",
   "execution_count": 10,
   "id": "cf20835a",
   "metadata": {
    "execution": {
     "iopub.execute_input": "2024-09-04T12:58:23.388623Z",
     "iopub.status.busy": "2024-09-04T12:58:23.387885Z",
     "iopub.status.idle": "2024-09-04T12:58:23.415797Z",
     "shell.execute_reply": "2024-09-04T12:58:23.414364Z"
    },
    "id": "0udeZoYcxiyy",
    "outputId": "1367e7e3-4e95-43b3-f82d-2d6fc41753a7",
    "papermill": {
     "duration": 0.052681,
     "end_time": "2024-09-04T12:58:23.420317",
     "exception": false,
     "start_time": "2024-09-04T12:58:23.367636",
     "status": "completed"
    },
    "tags": []
   },
   "outputs": [
    {
     "data": {
      "text/html": [
       "<div>\n",
       "<style scoped>\n",
       "    .dataframe tbody tr th:only-of-type {\n",
       "        vertical-align: middle;\n",
       "    }\n",
       "\n",
       "    .dataframe tbody tr th {\n",
       "        vertical-align: top;\n",
       "    }\n",
       "\n",
       "    .dataframe thead th {\n",
       "        text-align: right;\n",
       "    }\n",
       "</style>\n",
       "<table border=\"1\" class=\"dataframe\">\n",
       "  <thead>\n",
       "    <tr style=\"text-align: right;\">\n",
       "      <th></th>\n",
       "      <th>Assignment: In-class participation</th>\n",
       "      <th>Assignment: Assignment 1</th>\n",
       "      <th>Assignment: Midterm</th>\n",
       "    </tr>\n",
       "  </thead>\n",
       "  <tbody>\n",
       "    <tr>\n",
       "      <th>0</th>\n",
       "      <td>3</td>\n",
       "      <td>100.0</td>\n",
       "      <td>14</td>\n",
       "    </tr>\n",
       "    <tr>\n",
       "      <th>1</th>\n",
       "      <td>-</td>\n",
       "      <td>100.0</td>\n",
       "      <td>18</td>\n",
       "    </tr>\n",
       "    <tr>\n",
       "      <th>2</th>\n",
       "      <td>1</td>\n",
       "      <td>100.0</td>\n",
       "      <td>16</td>\n",
       "    </tr>\n",
       "    <tr>\n",
       "      <th>3</th>\n",
       "      <td>1</td>\n",
       "      <td>100.0</td>\n",
       "      <td>16</td>\n",
       "    </tr>\n",
       "    <tr>\n",
       "      <th>4</th>\n",
       "      <td>-</td>\n",
       "      <td>61.0</td>\n",
       "      <td>20</td>\n",
       "    </tr>\n",
       "  </tbody>\n",
       "</table>\n",
       "</div>"
      ],
      "text/plain": [
       "  Assignment: In-class participation  Assignment: Assignment 1  \\\n",
       "0                                  3                     100.0   \n",
       "1                                  -                     100.0   \n",
       "2                                  1                     100.0   \n",
       "3                                  1                     100.0   \n",
       "4                                  -                      61.0   \n",
       "\n",
       "   Assignment: Midterm  \n",
       "0                   14  \n",
       "1                   18  \n",
       "2                   16  \n",
       "3                   16  \n",
       "4                   20  "
      ]
     },
     "execution_count": 10,
     "metadata": {},
     "output_type": "execute_result"
    }
   ],
   "source": [
    "test_data = pd.read_csv('/kaggle/input/pmldl-week-1-test-regression-competition/test.csv', sep=';')\n",
    "test_data.head()"
   ]
  },
  {
   "cell_type": "code",
   "execution_count": 11,
   "id": "828d1b69",
   "metadata": {
    "execution": {
     "iopub.execute_input": "2024-09-04T12:58:23.443477Z",
     "iopub.status.busy": "2024-09-04T12:58:23.443042Z",
     "iopub.status.idle": "2024-09-04T12:58:23.453816Z",
     "shell.execute_reply": "2024-09-04T12:58:23.452366Z"
    },
    "id": "s5qBNtR2xiyy",
    "papermill": {
     "duration": 0.02333,
     "end_time": "2024-09-04T12:58:23.456100",
     "exception": false,
     "start_time": "2024-09-04T12:58:23.432770",
     "status": "completed"
    },
    "tags": []
   },
   "outputs": [],
   "source": [
    "# Write your src_code here - don't forget to apply the same transformation on test data\n",
    "preproc_test = test_data.replace({'-': 0}).astype('float64')\n",
    "delta_test = preproc_test['Assignment: Assignment 1'] * 0.3 + preproc_test['Assignment: In-class participation'] + preproc_test['Assignment: Midterm']\n",
    "delta_test = delta_test.to_numpy().flatten()\n",
    "preproc_test = regressor_scaler.transform(preproc_test)\n",
    "\n",
    "predictions = model.predict(preproc_test)"
   ]
  },
  {
   "cell_type": "markdown",
   "id": "28036207",
   "metadata": {
    "id": "-cKDdEJDxiy0",
    "papermill": {
     "duration": 0.008591,
     "end_time": "2024-09-04T12:58:23.473779",
     "exception": false,
     "start_time": "2024-09-04T12:58:23.465188",
     "status": "completed"
    },
    "tags": []
   },
   "source": [
    "### Save model predictions\n",
    "Save model predictions to `submission.csv` and submit to competition"
   ]
  },
  {
   "cell_type": "code",
   "execution_count": 12,
   "id": "ab7bc5bb",
   "metadata": {
    "execution": {
     "iopub.execute_input": "2024-09-04T12:58:23.494198Z",
     "iopub.status.busy": "2024-09-04T12:58:23.493045Z",
     "iopub.status.idle": "2024-09-04T12:58:23.501249Z",
     "shell.execute_reply": "2024-09-04T12:58:23.500127Z"
    },
    "id": "Oq_sfcaSxiy0",
    "papermill": {
     "duration": 0.021279,
     "end_time": "2024-09-04T12:58:23.503986",
     "exception": false,
     "start_time": "2024-09-04T12:58:23.482707",
     "status": "completed"
    },
    "tags": []
   },
   "outputs": [],
   "source": [
    "predictions = np.minimum(np.maximum(predictions * maximum + minimum + delta_test, 0), 100)\n",
    "predictions_to_go = predictions.reshape(-1, 1)\n",
    "preds = pd.DataFrame(predictions_to_go, columns=['Course Grade (Real)'])\n",
    "# Insert ID column for Kaggle\n",
    "preds.insert(0, 'ID', range(0, len(preds)))"
   ]
  },
  {
   "cell_type": "code",
   "execution_count": 13,
   "id": "46846e0a",
   "metadata": {
    "execution": {
     "iopub.execute_input": "2024-09-04T12:58:23.524519Z",
     "iopub.status.busy": "2024-09-04T12:58:23.524040Z",
     "iopub.status.idle": "2024-09-04T12:58:23.538336Z",
     "shell.execute_reply": "2024-09-04T12:58:23.537190Z"
    },
    "id": "qSCUQg_UhzJc",
    "outputId": "0583f6d7-b77a-4331-e2bc-84e893505fe2",
    "papermill": {
     "duration": 0.027657,
     "end_time": "2024-09-04T12:58:23.540807",
     "exception": false,
     "start_time": "2024-09-04T12:58:23.513150",
     "status": "completed"
    },
    "tags": []
   },
   "outputs": [
    {
     "data": {
      "text/html": [
       "<div>\n",
       "<style scoped>\n",
       "    .dataframe tbody tr th:only-of-type {\n",
       "        vertical-align: middle;\n",
       "    }\n",
       "\n",
       "    .dataframe tbody tr th {\n",
       "        vertical-align: top;\n",
       "    }\n",
       "\n",
       "    .dataframe thead th {\n",
       "        text-align: right;\n",
       "    }\n",
       "</style>\n",
       "<table border=\"1\" class=\"dataframe\">\n",
       "  <thead>\n",
       "    <tr style=\"text-align: right;\">\n",
       "      <th></th>\n",
       "      <th>ID</th>\n",
       "      <th>Course Grade (Real)</th>\n",
       "    </tr>\n",
       "  </thead>\n",
       "  <tbody>\n",
       "    <tr>\n",
       "      <th>0</th>\n",
       "      <td>0</td>\n",
       "      <td>75.880866</td>\n",
       "    </tr>\n",
       "    <tr>\n",
       "      <th>1</th>\n",
       "      <td>1</td>\n",
       "      <td>71.527440</td>\n",
       "    </tr>\n",
       "    <tr>\n",
       "      <th>2</th>\n",
       "      <td>2</td>\n",
       "      <td>73.330862</td>\n",
       "    </tr>\n",
       "    <tr>\n",
       "      <th>3</th>\n",
       "      <td>3</td>\n",
       "      <td>73.330862</td>\n",
       "    </tr>\n",
       "    <tr>\n",
       "      <th>4</th>\n",
       "      <td>4</td>\n",
       "      <td>56.493169</td>\n",
       "    </tr>\n",
       "    <tr>\n",
       "      <th>5</th>\n",
       "      <td>5</td>\n",
       "      <td>57.933867</td>\n",
       "    </tr>\n",
       "    <tr>\n",
       "      <th>6</th>\n",
       "      <td>6</td>\n",
       "      <td>81.616655</td>\n",
       "    </tr>\n",
       "    <tr>\n",
       "      <th>7</th>\n",
       "      <td>7</td>\n",
       "      <td>73.219237</td>\n",
       "    </tr>\n",
       "    <tr>\n",
       "      <th>8</th>\n",
       "      <td>8</td>\n",
       "      <td>100.000000</td>\n",
       "    </tr>\n",
       "    <tr>\n",
       "      <th>9</th>\n",
       "      <td>9</td>\n",
       "      <td>82.214314</td>\n",
       "    </tr>\n",
       "    <tr>\n",
       "      <th>10</th>\n",
       "      <td>10</td>\n",
       "      <td>58.994996</td>\n",
       "    </tr>\n",
       "    <tr>\n",
       "      <th>11</th>\n",
       "      <td>11</td>\n",
       "      <td>29.313367</td>\n",
       "    </tr>\n",
       "    <tr>\n",
       "      <th>12</th>\n",
       "      <td>12</td>\n",
       "      <td>83.290937</td>\n",
       "    </tr>\n",
       "    <tr>\n",
       "      <th>13</th>\n",
       "      <td>13</td>\n",
       "      <td>65.195602</td>\n",
       "    </tr>\n",
       "    <tr>\n",
       "      <th>14</th>\n",
       "      <td>14</td>\n",
       "      <td>0.000000</td>\n",
       "    </tr>\n",
       "    <tr>\n",
       "      <th>15</th>\n",
       "      <td>15</td>\n",
       "      <td>76.369391</td>\n",
       "    </tr>\n",
       "    <tr>\n",
       "      <th>16</th>\n",
       "      <td>16</td>\n",
       "      <td>70.098290</td>\n",
       "    </tr>\n",
       "    <tr>\n",
       "      <th>17</th>\n",
       "      <td>17</td>\n",
       "      <td>98.950235</td>\n",
       "    </tr>\n",
       "    <tr>\n",
       "      <th>18</th>\n",
       "      <td>18</td>\n",
       "      <td>96.862586</td>\n",
       "    </tr>\n",
       "    <tr>\n",
       "      <th>19</th>\n",
       "      <td>19</td>\n",
       "      <td>65.219541</td>\n",
       "    </tr>\n",
       "    <tr>\n",
       "      <th>20</th>\n",
       "      <td>20</td>\n",
       "      <td>60.424180</td>\n",
       "    </tr>\n",
       "    <tr>\n",
       "      <th>21</th>\n",
       "      <td>21</td>\n",
       "      <td>66.024998</td>\n",
       "    </tr>\n",
       "    <tr>\n",
       "      <th>22</th>\n",
       "      <td>22</td>\n",
       "      <td>71.428767</td>\n",
       "    </tr>\n",
       "    <tr>\n",
       "      <th>23</th>\n",
       "      <td>23</td>\n",
       "      <td>66.731016</td>\n",
       "    </tr>\n",
       "    <tr>\n",
       "      <th>24</th>\n",
       "      <td>24</td>\n",
       "      <td>94.951219</td>\n",
       "    </tr>\n",
       "    <tr>\n",
       "      <th>25</th>\n",
       "      <td>25</td>\n",
       "      <td>41.307366</td>\n",
       "    </tr>\n",
       "    <tr>\n",
       "      <th>26</th>\n",
       "      <td>26</td>\n",
       "      <td>65.665962</td>\n",
       "    </tr>\n",
       "    <tr>\n",
       "      <th>27</th>\n",
       "      <td>27</td>\n",
       "      <td>0.000000</td>\n",
       "    </tr>\n",
       "    <tr>\n",
       "      <th>28</th>\n",
       "      <td>28</td>\n",
       "      <td>97.451794</td>\n",
       "    </tr>\n",
       "    <tr>\n",
       "      <th>29</th>\n",
       "      <td>29</td>\n",
       "      <td>96.862586</td>\n",
       "    </tr>\n",
       "    <tr>\n",
       "      <th>30</th>\n",
       "      <td>30</td>\n",
       "      <td>43.724173</td>\n",
       "    </tr>\n",
       "    <tr>\n",
       "      <th>31</th>\n",
       "      <td>31</td>\n",
       "      <td>64.510257</td>\n",
       "    </tr>\n",
       "    <tr>\n",
       "      <th>32</th>\n",
       "      <td>32</td>\n",
       "      <td>78.166798</td>\n",
       "    </tr>\n",
       "    <tr>\n",
       "      <th>33</th>\n",
       "      <td>33</td>\n",
       "      <td>21.809006</td>\n",
       "    </tr>\n",
       "    <tr>\n",
       "      <th>34</th>\n",
       "      <td>34</td>\n",
       "      <td>97.540561</td>\n",
       "    </tr>\n",
       "    <tr>\n",
       "      <th>35</th>\n",
       "      <td>35</td>\n",
       "      <td>78.887997</td>\n",
       "    </tr>\n",
       "    <tr>\n",
       "      <th>36</th>\n",
       "      <td>36</td>\n",
       "      <td>84.422587</td>\n",
       "    </tr>\n",
       "    <tr>\n",
       "      <th>37</th>\n",
       "      <td>37</td>\n",
       "      <td>69.851764</td>\n",
       "    </tr>\n",
       "    <tr>\n",
       "      <th>38</th>\n",
       "      <td>38</td>\n",
       "      <td>71.760569</td>\n",
       "    </tr>\n",
       "    <tr>\n",
       "      <th>39</th>\n",
       "      <td>39</td>\n",
       "      <td>57.884739</td>\n",
       "    </tr>\n",
       "    <tr>\n",
       "      <th>40</th>\n",
       "      <td>40</td>\n",
       "      <td>68.721698</td>\n",
       "    </tr>\n",
       "    <tr>\n",
       "      <th>41</th>\n",
       "      <td>41</td>\n",
       "      <td>77.664663</td>\n",
       "    </tr>\n",
       "    <tr>\n",
       "      <th>42</th>\n",
       "      <td>42</td>\n",
       "      <td>66.123106</td>\n",
       "    </tr>\n",
       "  </tbody>\n",
       "</table>\n",
       "</div>"
      ],
      "text/plain": [
       "    ID  Course Grade (Real)\n",
       "0    0            75.880866\n",
       "1    1            71.527440\n",
       "2    2            73.330862\n",
       "3    3            73.330862\n",
       "4    4            56.493169\n",
       "5    5            57.933867\n",
       "6    6            81.616655\n",
       "7    7            73.219237\n",
       "8    8           100.000000\n",
       "9    9            82.214314\n",
       "10  10            58.994996\n",
       "11  11            29.313367\n",
       "12  12            83.290937\n",
       "13  13            65.195602\n",
       "14  14             0.000000\n",
       "15  15            76.369391\n",
       "16  16            70.098290\n",
       "17  17            98.950235\n",
       "18  18            96.862586\n",
       "19  19            65.219541\n",
       "20  20            60.424180\n",
       "21  21            66.024998\n",
       "22  22            71.428767\n",
       "23  23            66.731016\n",
       "24  24            94.951219\n",
       "25  25            41.307366\n",
       "26  26            65.665962\n",
       "27  27             0.000000\n",
       "28  28            97.451794\n",
       "29  29            96.862586\n",
       "30  30            43.724173\n",
       "31  31            64.510257\n",
       "32  32            78.166798\n",
       "33  33            21.809006\n",
       "34  34            97.540561\n",
       "35  35            78.887997\n",
       "36  36            84.422587\n",
       "37  37            69.851764\n",
       "38  38            71.760569\n",
       "39  39            57.884739\n",
       "40  40            68.721698\n",
       "41  41            77.664663\n",
       "42  42            66.123106"
      ]
     },
     "execution_count": 13,
     "metadata": {},
     "output_type": "execute_result"
    }
   ],
   "source": [
    "preds"
   ]
  },
  {
   "cell_type": "code",
   "execution_count": 14,
   "id": "d8e5a955",
   "metadata": {
    "execution": {
     "iopub.execute_input": "2024-09-04T12:58:23.561847Z",
     "iopub.status.busy": "2024-09-04T12:58:23.561408Z",
     "iopub.status.idle": "2024-09-04T12:58:23.570076Z",
     "shell.execute_reply": "2024-09-04T12:58:23.568827Z"
    },
    "id": "8q421xSixiy0",
    "papermill": {
     "duration": 0.022342,
     "end_time": "2024-09-04T12:58:23.572847",
     "exception": false,
     "start_time": "2024-09-04T12:58:23.550505",
     "status": "completed"
    },
    "tags": []
   },
   "outputs": [],
   "source": [
    "preds.to_csv('submission.csv', index=None)"
   ]
  }
 ],
 "metadata": {
  "colab": {
   "provenance": []
  },
  "kaggle": {
   "accelerator": "none",
   "dataSources": [
    {
     "databundleVersionId": 9460212,
     "sourceId": 84460,
     "sourceType": "competition"
    }
   ],
   "dockerImageVersionId": 30761,
   "isGpuEnabled": false,
   "isInternetEnabled": true,
   "language": "python",
   "sourceType": "notebook"
  },
  "kernelspec": {
   "display_name": "Python 3",
   "language": "python",
   "name": "python3"
  },
  "language_info": {
   "codemirror_mode": {
    "name": "ipython",
    "version": 3
   },
   "file_extension": ".py",
   "mimetype": "text/x-python",
   "name": "python",
   "nbconvert_exporter": "python",
   "pygments_lexer": "ipython3",
   "version": "3.10.14"
  },
  "papermill": {
   "default_parameters": {},
   "duration": 7.163404,
   "end_time": "2024-09-04T12:58:24.204604",
   "environment_variables": {},
   "exception": null,
   "input_path": "__notebook__.ipynb",
   "output_path": "__notebook__.ipynb",
   "parameters": {},
   "start_time": "2024-09-04T12:58:17.041200",
   "version": "2.6.0"
  }
 },
 "nbformat": 4,
 "nbformat_minor": 5
}
