{
 "cells": [
  {
   "cell_type": "code",
   "id": "initial_id",
   "metadata": {
    "collapsed": true,
    "ExecuteTime": {
     "end_time": "2024-09-28T00:32:43.760988Z",
     "start_time": "2024-09-28T00:32:43.152930Z"
    }
   },
   "source": "import pandas as pd",
   "outputs": [],
   "execution_count": 1
  },
  {
   "metadata": {
    "ExecuteTime": {
     "end_time": "2024-09-28T00:56:01.688379Z",
     "start_time": "2024-09-28T00:56:01.680119Z"
    }
   },
   "cell_type": "code",
   "source": "total_data = pd.read_csv(\"../../data/raw/grades.csv\", sep=\";\")",
   "id": "50f9426223bff445",
   "outputs": [],
   "execution_count": 13
  },
  {
   "metadata": {
    "ExecuteTime": {
     "end_time": "2024-09-28T00:56:01.987042Z",
     "start_time": "2024-09-28T00:56:01.983924Z"
    }
   },
   "cell_type": "code",
   "source": [
    "def impute(df):\n",
    "    res = df.replace({'-': 0}).astype('float64')\n",
    "    return res"
   ],
   "id": "6f6850a0e34e8b1b",
   "outputs": [],
   "execution_count": 14
  },
  {
   "metadata": {
    "ExecuteTime": {
     "end_time": "2024-09-28T00:56:02.312628Z",
     "start_time": "2024-09-28T00:56:02.304723Z"
    }
   },
   "cell_type": "code",
   "source": [
    "total_data = impute(total_data)\n",
    "train_data = total_data.sample(frac=0.8)\n",
    "test_data = total_data.drop(train_data.index)"
   ],
   "id": "47414e5bba4bd23a",
   "outputs": [],
   "execution_count": 15
  },
  {
   "metadata": {
    "ExecuteTime": {
     "end_time": "2024-09-28T00:59:09.739340Z",
     "start_time": "2024-09-28T00:59:09.729160Z"
    }
   },
   "cell_type": "code",
   "source": [
    "train_data.to_csv(\"../../data/processed/train.csv\", index=False)\n",
    "test_data.to_csv(\"../../data/processed/test.csv\", index=False)"
   ],
   "id": "7cf8d99654b05d39",
   "outputs": [],
   "execution_count": 16
  }
 ],
 "metadata": {
  "kernelspec": {
   "display_name": "Python 3",
   "language": "python",
   "name": "python3"
  },
  "language_info": {
   "codemirror_mode": {
    "name": "ipython",
    "version": 2
   },
   "file_extension": ".py",
   "mimetype": "text/x-python",
   "name": "python",
   "nbconvert_exporter": "python",
   "pygments_lexer": "ipython2",
   "version": "2.7.6"
  }
 },
 "nbformat": 4,
 "nbformat_minor": 5
}
